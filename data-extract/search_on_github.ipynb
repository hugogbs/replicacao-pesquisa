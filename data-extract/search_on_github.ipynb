{
 "cells": [
  {
   "cell_type": "code",
   "execution_count": 2,
   "metadata": {},
   "outputs": [],
   "source": [
    "import requests\n",
    "import pandas as pd\n",
    "import time\n",
    "from datetime import datetime\n",
    "from github import Github, Repository, ContentFile\n",
    "import io"
   ]
  },
  {
   "cell_type": "code",
   "execution_count": 3,
   "metadata": {
    "scrolled": true
   },
   "outputs": [],
   "source": [
    "urlTse = '\"tse.jus.br/hotSites\"'\n",
    "urlTse_2 = \"'agencia.tse.jus.br/estatistica/sead/odsele'\"\n",
    "\n",
    "urlCamara = \"'dadosabertos.camara.leg.br/'\"\n",
    "\"dadosabertos.camara.leg.br/swagger\"\n",
    "urlCamara_2 = \"'camara.leg.br/transparencia/dados-abertos'\""
   ]
  },
  {
   "cell_type": "code",
   "execution_count": 4,
   "metadata": {
    "scrolled": true
   },
   "outputs": [
    {
     "data": {
      "text/plain": [
       "37"
      ]
     },
     "execution_count": 4,
     "metadata": {},
     "output_type": "execute_result"
    }
   ],
   "source": [
    "tse_query_1 = 'https://github.com/search?l=&q=tse.jus.br%2FhotSites+extension%3AR+extension%3ARmd&type=Code'\n",
    "tse_query_2 = 'https://github.com/search?p=8&q=%22agencia.tse.jus.br%2Festatistica%2Fsead%22+extension%3AR+extension%3ARdm&type=Code&utf8=%E2%9C%93'\n",
    "\n",
    "tse_repositories_1 = ['ArthurSampaio/CodigosExporadicos',\n",
    "                      'GV-CEPESP/calculo_cadeiras',\n",
    "                      'andrevalentebr/dadosTSE',\n",
    "                      'appeler/namesexdata',\n",
    "                      'celacanto/eleicaoBrasil2010',\n",
    "                      'diogro/cart_mapas_eleicao',\n",
    "                      'wpeixoto/abstencao_eleitoral',\n",
    "                      'nazareno/dinheiro-nas-eleicoes2016',\n",
    "                      'wpeixoto/metodos-inferenciais']\n",
    "\n",
    "tse_repositories_2 = ['GV-CEPESP/banco.tse_filiados',\n",
    "                      'GV-CEPESP/calculo_cadeiras',\n",
    "                      'Gabiscampos/aplicativo_indicadores',\n",
    "                      'Gabiscampos/bens_candidatos',\n",
    "                      'aassumpcao/tseresearch',\n",
    "                      'abjur/uncabj',\n",
    "                      'andrevalentebr/dadosTSE',\n",
    "                      'apublica/votacao-rp',\n",
    "                      'atrfisch/proportional_races',\n",
    "                      'brunomssmelo/TseWrangler',\n",
    "                      'cassiospoliveira/FLS6397---Cassio',\n",
    "                      'cran/electionsBR',\n",
    "                      'danielmarcelino/rTSE',\n",
    "                      'rebecacarvalho/cepesp_indicadores',\n",
    "                      'fabianoa/iad',\n",
    "                      'gpiraja/dinheiroXvoto',\n",
    "                      'lgelape/dissertacao_replicacao',\n",
    "                      'lgelape/texto_mariellefranco',\n",
    "                      'lumardi/partidos_br',\n",
    "                      'marinamerlo/Eleicoes-Municipais-Sao-Paulo-2016',\n",
    "                      'marinamerlo/FLS6397',\n",
    "                      'marinamerlo/dissertacao',\n",
    "                      'mgaldino/jbs',\n",
    "                      'mgaldino/relatorios_tb',\n",
    "                      'nataliabueno/close_races',\n",
    "                      'nataliabueno/filiados_TSE',\n",
    "                      'raphaelnishimura/benford-analysis',\n",
    "                      'silvadenisson/electionsBR',\n",
    "                      'silvadenisson/eleicoes_2018',\n",
    "                      'thiagomendesrosa/tese_1']\n",
    "\n",
    "tse_repositories = list(set(tse_repositories_1 + tse_repositories_2))\n",
    "len(tse_repositories)"
   ]
  },
  {
   "cell_type": "code",
   "execution_count": 5,
   "metadata": {
    "scrolled": true
   },
   "outputs": [
    {
     "data": {
      "text/plain": [
       "['nataliabueno/close_races',\n",
       " 'GV-CEPESP/calculo_cadeiras',\n",
       " 'nataliabueno/filiados_TSE',\n",
       " 'lumardi/partidos_br',\n",
       " 'raphaelnishimura/benford-analysis',\n",
       " 'mgaldino/jbs',\n",
       " 'abjur/uncabj',\n",
       " 'silvadenisson/eleicoes_2018',\n",
       " 'nazareno/dinheiro-nas-eleicoes2016',\n",
       " 'mgaldino/relatorios_tb',\n",
       " 'marinamerlo/Eleicoes-Municipais-Sao-Paulo-2016',\n",
       " 'thiagomendesrosa/tese_1',\n",
       " 'rebecacarvalho/cepesp_indicadores',\n",
       " 'appeler/namesexdata',\n",
       " 'marinamerlo/FLS6397',\n",
       " 'cran/electionsBR',\n",
       " 'aassumpcao/tseresearch',\n",
       " 'andrevalentebr/dadosTSE',\n",
       " 'atrfisch/proportional_races',\n",
       " 'brunomssmelo/TseWrangler',\n",
       " 'wpeixoto/abstencao_eleitoral',\n",
       " 'cassiospoliveira/FLS6397---Cassio',\n",
       " 'GV-CEPESP/banco.tse_filiados',\n",
       " 'marinamerlo/dissertacao',\n",
       " 'ArthurSampaio/CodigosExporadicos',\n",
       " 'lgelape/texto_mariellefranco',\n",
       " 'Gabiscampos/aplicativo_indicadores',\n",
       " 'danielmarcelino/rTSE',\n",
       " 'gpiraja/dinheiroXvoto',\n",
       " 'fabianoa/iad',\n",
       " 'apublica/votacao-rp',\n",
       " 'wpeixoto/metodos-inferenciais',\n",
       " 'lgelape/dissertacao_replicacao',\n",
       " 'diogro/cart_mapas_eleicao',\n",
       " 'celacanto/eleicaoBrasil2010',\n",
       " 'Gabiscampos/bens_candidatos',\n",
       " 'silvadenisson/electionsBR']"
      ]
     },
     "execution_count": 5,
     "metadata": {},
     "output_type": "execute_result"
    }
   ],
   "source": [
    "tse_repositories"
   ]
  },
  {
   "cell_type": "code",
   "execution_count": 6,
   "metadata": {
    "scrolled": true
   },
   "outputs": [
    {
     "data": {
      "text/plain": [
       "9"
      ]
     },
     "execution_count": 6,
     "metadata": {},
     "output_type": "execute_result"
    }
   ],
   "source": [
    "camara_query_1 = 'https://github.com/search?q=dadosabertos.camara.leg.br%2Fswagger+extension%3AR+extension%3ARmd&type=Code'\n",
    "camara_query_2 = 'https://github.com/search?utf8=%E2%9C%93&q=%22camara.leg.br%2Ftransparencia%2Fdados-abertos%22+extension%3AR+extension%3ARdm&type=Code'\n",
    "\n",
    "camara_repositories_1 = ['brunoritter/nlpcam', 'treisdev/supreme-potato', \n",
    "                         'analytics-ufcg/rcongresso', 'cran/rcongresso', \n",
    "                         'gabrielacaesar/studyingR', 'iesp-uerj/olb',\n",
    "                         'SLRaul/CDR-1']\n",
    "\n",
    "camara_repositories_2 = ['fehann/votos-prop', 'Fpschwartz1/DiscursoDeputados']\n",
    "\n",
    "camara_repositories = list(set(camara_repositories_1 + camara_repositories_2))\n",
    "len(camara_repositories)"
   ]
  },
  {
   "cell_type": "code",
   "execution_count": 13,
   "metadata": {},
   "outputs": [],
   "source": [
    "def get_files(listOfRepositories, pathToSave):\n",
    "    user = 'hugogbs'\n",
    "    password = 'senha'\n",
    "    g = Github(user, password)\n",
    "    \n",
    "    for repository_path in listOfRepositories:\n",
    "        print(repository_path)\n",
    "            \n",
    "        repository = g.get_repo(repository_path)\n",
    "        \n",
    "        contents = repository.get_contents(\"\")\n",
    "        \n",
    "        while len(contents) > 0:\n",
    "                        \n",
    "            file_content = contents.pop(0)\n",
    "            \n",
    "            if file_content.type == \"dir\":\n",
    "                contents.extend(repository.get_contents(file_content.path))\n",
    "                \n",
    "            elif file_content.download_url[-2:] == '.R' or file_content.download_url[-4:] == '.Rmd':\n",
    "                file_name = repository_path + '--' + file_content.path\n",
    "                file_name = file_name.replace(\"/\", \"--\")\n",
    "                \n",
    "                download_url = file_content.download_url\n",
    "                \n",
    "                req = requests.get(download_url)\n",
    "                \n",
    "#                 with io.open(pathToSave + file_name, 'w', encoding='utf8') as f:\n",
    "#                     f.write(req.content)\n",
    "                with open(pathToSave + file_name, 'wb') as f:  \n",
    "                    f.write(req.content)"
   ]
  },
  {
   "cell_type": "code",
   "execution_count": 14,
   "metadata": {
    "scrolled": true
   },
   "outputs": [
    {
     "name": "stdout",
     "output_type": "stream",
     "text": [
      "nataliabueno/close_races\n"
     ]
    },
    {
     "ename": "AttributeError",
     "evalue": "'bytes' object has no attribute 'encode'",
     "output_type": "error",
     "traceback": [
      "\u001b[0;31m---------------------------------------------------------------------------\u001b[0m",
      "\u001b[0;31mAttributeError\u001b[0m                            Traceback (most recent call last)",
      "\u001b[0;32m<ipython-input-14-70794218f60c>\u001b[0m in \u001b[0;36m<module>\u001b[0;34m\u001b[0m\n\u001b[0;32m----> 1\u001b[0;31m \u001b[0mget_files\u001b[0m\u001b[0;34m(\u001b[0m\u001b[0mtse_repositories\u001b[0m\u001b[0;34m,\u001b[0m \u001b[0;34m'data/tse_01/'\u001b[0m\u001b[0;34m)\u001b[0m\u001b[0;34m\u001b[0m\u001b[0;34m\u001b[0m\u001b[0m\n\u001b[0m",
      "\u001b[0;32m<ipython-input-13-c54817fcbb34>\u001b[0m in \u001b[0;36mget_files\u001b[0;34m(listOfRepositories, pathToSave)\u001b[0m\n\u001b[1;32m     29\u001b[0m \u001b[0;31m#                     f.write(req.content)\u001b[0m\u001b[0;34m\u001b[0m\u001b[0;34m\u001b[0m\u001b[0;34m\u001b[0m\u001b[0m\n\u001b[1;32m     30\u001b[0m                 \u001b[0;32mwith\u001b[0m \u001b[0mopen\u001b[0m\u001b[0;34m(\u001b[0m\u001b[0mpathToSave\u001b[0m \u001b[0;34m+\u001b[0m \u001b[0mfile_name\u001b[0m\u001b[0;34m,\u001b[0m \u001b[0;34m'wb'\u001b[0m\u001b[0;34m)\u001b[0m \u001b[0;32mas\u001b[0m \u001b[0mf\u001b[0m\u001b[0;34m:\u001b[0m\u001b[0;34m\u001b[0m\u001b[0;34m\u001b[0m\u001b[0m\n\u001b[0;32m---> 31\u001b[0;31m                     \u001b[0mf\u001b[0m\u001b[0;34m.\u001b[0m\u001b[0mwrite\u001b[0m\u001b[0;34m(\u001b[0m\u001b[0mreq\u001b[0m\u001b[0;34m.\u001b[0m\u001b[0mcontent\u001b[0m\u001b[0;34m.\u001b[0m\u001b[0mencode\u001b[0m\u001b[0;34m(\u001b[0m\u001b[0;34m'utf8'\u001b[0m\u001b[0;34m)\u001b[0m\u001b[0;34m)\u001b[0m\u001b[0;34m\u001b[0m\u001b[0;34m\u001b[0m\u001b[0m\n\u001b[0m",
      "\u001b[0;31mAttributeError\u001b[0m: 'bytes' object has no attribute 'encode'"
     ]
    }
   ],
   "source": [
    "get_files(tse_repositories, 'data/tse_01/')"
   ]
  },
  {
   "cell_type": "code",
   "execution_count": 158,
   "metadata": {},
   "outputs": [
    {
     "name": "stdout",
     "output_type": "stream",
     "text": [
      "brunoritter/nlpcam\n",
      "treisdev/supreme-potato\n",
      "iesp-uerj/olb\n",
      "fehann/votos-prop\n",
      "analytics-ufcg/rcongresso\n",
      "SLRaul/CDR-1\n",
      "Fpschwartz1/DiscursoDeputados\n",
      "cran/rcongresso\n",
      "gabrielacaesar/studyingR\n"
     ]
    }
   ],
   "source": [
    "get_files(camara_repositories, 'data/camara_2/')"
   ]
  }
 ],
 "metadata": {
  "kernelspec": {
   "display_name": "Python 3",
   "language": "python",
   "name": "python3"
  },
  "language_info": {
   "codemirror_mode": {
    "name": "ipython",
    "version": 3
   },
   "file_extension": ".py",
   "mimetype": "text/x-python",
   "name": "python",
   "nbconvert_exporter": "python",
   "pygments_lexer": "ipython3",
   "version": "3.6.7"
  }
 },
 "nbformat": 4,
 "nbformat_minor": 2
}
